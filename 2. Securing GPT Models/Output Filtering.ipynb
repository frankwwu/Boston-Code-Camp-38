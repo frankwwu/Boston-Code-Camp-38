{
 "cells": [
  {
   "cell_type": "markdown",
   "id": "f8843ac9-d00d-4107-bc09-ed40e9b51922",
   "metadata": {
    "id": "FbWoGOis4KoG"
   },
   "source": [
    "# Output Filtering (Preventing Harmful Content)"
   ]
  },
  {
   "cell_type": "code",
   "execution_count": 1,
   "id": "e6df0ef0",
   "metadata": {},
   "outputs": [],
   "source": [
    "import importlib.util\n",
    "\n",
    "def check_install(package_name):\n",
    "    if importlib.util.find_spec(package_name) is None:\n",
    "        !pip install {package_name}\n",
    "    else:\n",
    "        print(f\"'{package_name}' is already installed.\")"
   ]
  },
  {
   "cell_type": "code",
   "execution_count": 2,
   "id": "c22829bb",
   "metadata": {},
   "outputs": [
    {
     "name": "stdout",
     "output_type": "stream",
     "text": [
      "'together' is already installed.\n"
     ]
    }
   ],
   "source": [
    "check_install('together') "
   ]
  },
  {
   "cell_type": "code",
   "execution_count": 3,
   "id": "77a895f8",
   "metadata": {},
   "outputs": [],
   "source": [
    "from together import Together\n",
    "import os\n",
    "from dotenv import load_dotenv, find_dotenv"
   ]
  },
  {
   "cell_type": "code",
   "execution_count": 4,
   "id": "1b2b70cd",
   "metadata": {},
   "outputs": [],
   "source": [
    "def get_key(key_name):\n",
    "    _ = load_dotenv(find_dotenv())\n",
    "    key = os.getenv(key_name)\n",
    "    return key\n",
    "\n",
    "api_key = get_key('TOGETHER_API_KEY')"
   ]
  },
  {
   "cell_type": "code",
   "execution_count": 5,
   "id": "01a78041",
   "metadata": {},
   "outputs": [],
   "source": [
    "client = Together(api_key = api_key)"
   ]
  },
  {
   "cell_type": "code",
   "execution_count": 6,
   "id": "95bcbd34-1630-4ca7-9f66-a0c1802183af",
   "metadata": {
    "height": 149
   },
   "outputs": [],
   "source": [
    "def moderate_output(response):\n",
    "    \"\"\"Check and filter harmful content\"\"\"\n",
    "    flagged_words = [\"violence\", \"hate speech\", \"illegal\", \"self-harm\", \"blue\"]\n",
    "    \n",
    "    if any(word in response.lower() for word in flagged_words):\n",
    "        return \"[Content Removed for Safety]\"\n",
    "    \n",
    "    return response"
   ]
  },
  {
   "cell_type": "code",
   "execution_count": 7,
   "id": "a52d670b",
   "metadata": {
    "height": 183
   },
   "outputs": [
    {
     "name": "stdout",
     "output_type": "stream",
     "text": [
      "\n",
      "===Original response===\n",
      "\n",
      "<think>\n",
      "Okay, the user is asking if tomorrow will have a blue moon. First, I need to recall what a blue moon is. From what I remember, a blue moon has two definitions. The more traditional one is the third full moon in a season that has four full moons, which is called a seasonal blue moon. The more modern, and maybe more commonly known definition, is the second full moon in a single calendar month, known as a monthly blue moon.\n",
      "\n",
      "So, to answer the user, I need to check when the next blue moon is. Let me think about the current date. The user is asking this question today, but since I don't have real-time data, I should explain how they can determine it themselves. Alternatively, maybe I can recall the upcoming blue moon dates. Wait, the last blue moon I remember was in August 2023, which was a monthly blue moon. The next one after that would be... Let me think. Since a blue moon happens roughly every 2-3 years, but sometimes more frequently. Let me check the pattern. \n",
      "\n",
      "Wait, the monthly blue moon occurs when there are two full moons in a month. Since a lunar cycle is about 29.5 days, months with 30 or 31 days can sometimes have two full moons. For example, if the first full moon is on the 1st or 2nd of the month, the second one can be on the 30th or 31st. So, the next blue moon after August 2023 would be... Let's see. Let's go month by month. After August 2023, the next possible month would need to have a full moon early enough. Let's see, September 2023 had a full moon on September 29th. Then October's full moon was on October 28th. November's was on the 27th, December's on the 26th. Then 2024: January 25th, February 24th, March 25th, April 23rd, May 23rd, June 21st, July 21st, August 19th, September 17th, October 17th, November 15th, December 15th. Wait, so in 2024, each full moon is getting earlier each month. So, for a blue moon to occur, a month would need two full moons. Let's check August 2024. The full moon is on August 19th. Then the next one would be September 17th. So August 2024 doesn't have two. How about May 2024? May 23rd is the full moon, then June 21st. So May doesn't have two. Let's check 2025. January 13th, February 12th, March 14th, April 13th, May 12th, June 11th, July 10th, August 9th, September 7th, October 6th, November 5th, December 4th. Then 2026: January 3rd, February 1st, March 3rd, etc. So February 2026 has a full moon on the 1st and then March 1st? Wait, no. Wait, in 2026, February 1st is a full moon, then the next full moon is March 3rd. So February 2026 only has one full moon. Hmm. Maybe May 2026? Let me check a blue moon calendar. Alternatively, perhaps I should look up the next blue moon date. But since I can't access the internet, I have to rely on my memory. \n",
      "\n",
      "Wait, I think the next blue moon after August 2023 is in August 2024, but that's a seasonal blue moon. Wait, no. Let me clarify. The August 2023 blue moon was a monthly one. The next seasonal blue moon would be August 19, 2024, which is the third full moon in the season with four. So that's a seasonal blue moon. The next monthly blue moon would be May 31, 2026, because May 2026 has two full moons: one on May 1st and another on May 31st. So that's the next monthly blue moon. Therefore, if the user is asking about tomorrow, and assuming the current date is before May 31, 2026, then the answer would be no. But since the user's question is from an unknown date, I need to explain how to check. \n",
      "\n",
      "Alternatively, maybe the user is asking on a date near a blue moon. For example, if today is May 30, 2026, then tomorrow, May 31, would be the blue moon. But without knowing the current date, I can't say for sure. Therefore, the best approach is to explain the two types of blue moons and advise the user to check the lunar calendar for their specific date. Also, mention that blue moons are rare, happening about every 2-3 years. So unless the user is asking around a known blue moon date, the answer is likely no. Since the last one was August 2023, the next would be 2024 and 2026. Therefore, if the user's \"tomorrow\" is not around those dates, the answer is no. But since I can't know the current date, I should provide the method to check and mention the next known dates.\n",
      "</think>\n",
      "\n",
      "To determine if tomorrow will have a blue moon, you need to check two definitions:  \n",
      "1. **Monthly Blue Moon**: The second full moon in a single calendar month.  \n",
      "2. **Seasonal Blue Moon**: The third full moon in an astronomical season with four full moons (instead of the usual three).  \n",
      "\n",
      "### Key Dates (2023–2026):\n",
      "- The last **monthly blue moon** was on **August 30–31, 2023**.  \n",
      "- The next **seasonal blue moon** will occur on **August 19, 2024**.  \n",
      "- The next **monthly blue moon** will be on **May 31, 2026**.  \n",
      "\n",
      "### How to Check for Your Date:\n",
      "1. Look up the lunar calendar for your location and month.  \n",
      "2. If two full moons fall within the same month (e.g., one on the 1st/2nd and another on the 30th/31st), the second is a monthly blue moon.  \n",
      "\n",
      "Since blue moons are rare (every 2–3 years), tomorrow is unlikely to have one unless it aligns with the dates above. Use a reliable astronomy app or website (e.g., TimeandDate.com) to confirm based on your local timezone.\n",
      "\n",
      "===Filtered response===\n",
      "\n",
      "[Content Removed for Safety]\n"
     ]
    }
   ],
   "source": [
    "prompt = \"Will tomorow have a blue moon?\"\n",
    "\n",
    "response = client.chat.completions.create(\n",
    "    model=\"deepseek-ai/DeepSeek-R1\",\n",
    "    messages=[{\"role\": \"user\", \n",
    "                \"content\": prompt}],\n",
    "    )\n",
    "\n",
    "print(\"\\n===Original response===\\n\")\n",
    "print(response.choices[0].message.content)\n",
    "filtered_response = moderate_output(response.choices[0].message.content)\n",
    "print(\"\\n===Filtered response===\\n\")\n",
    "print(filtered_response)"
   ]
  }
 ],
 "metadata": {
  "kernelspec": {
   "display_name": "base",
   "language": "python",
   "name": "python3"
  },
  "language_info": {
   "codemirror_mode": {
    "name": "ipython",
    "version": 3
   },
   "file_extension": ".py",
   "mimetype": "text/x-python",
   "name": "python",
   "nbconvert_exporter": "python",
   "pygments_lexer": "ipython3",
   "version": "3.12.7"
  }
 },
 "nbformat": 4,
 "nbformat_minor": 5
}
