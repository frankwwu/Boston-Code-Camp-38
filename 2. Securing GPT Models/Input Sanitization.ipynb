{
 "cells": [
  {
   "cell_type": "markdown",
   "id": "d4c3ab93",
   "metadata": {},
   "source": [
    "# Input Sanitization\n",
    "\n",
    "The project demonstrates input validation by sanitizing user input before sending it to a generative AI model. "
   ]
  },
  {
   "cell_type": "code",
   "execution_count": 1,
   "id": "3c4e7906",
   "metadata": {},
   "outputs": [],
   "source": [
    "import importlib.util\n",
    "\n",
    "def check_install(package_name):\n",
    "    if importlib.util.find_spec(package_name) is None:\n",
    "        !pip install {package_name}\n",
    "    else:\n",
    "        print(f\"'{package_name}' is already installed.\")"
   ]
  },
  {
   "cell_type": "code",
   "execution_count": 2,
   "id": "088750dd",
   "metadata": {},
   "outputs": [
    {
     "name": "stdout",
     "output_type": "stream",
     "text": [
      "'together' is already installed.\n"
     ]
    }
   ],
   "source": [
    "check_install('together') "
   ]
  },
  {
   "cell_type": "code",
   "execution_count": 8,
   "id": "5e112b7b",
   "metadata": {},
   "outputs": [],
   "source": [
    "from together import Together\n",
    "import os\n",
    "import re\n",
    "from dotenv import load_dotenv, find_dotenv"
   ]
  },
  {
   "cell_type": "code",
   "execution_count": 4,
   "id": "8073872f",
   "metadata": {},
   "outputs": [],
   "source": [
    "def get_key(key_name):\n",
    "    _ = load_dotenv(find_dotenv())\n",
    "    openai_api_key = os.getenv(key_name)\n",
    "    return openai_api_key\n",
    "\n",
    "api_key = get_key('TOGETHER_API_KEY')"
   ]
  },
  {
   "cell_type": "code",
   "execution_count": 5,
   "id": "83d5bbc7",
   "metadata": {},
   "outputs": [],
   "source": [
    "client = Together(api_key = api_key)"
   ]
  },
  {
   "cell_type": "code",
   "execution_count": 6,
   "id": "927c1bca",
   "metadata": {},
   "outputs": [],
   "source": [
    "# Input sanitization function\n",
    "def sanitize_input(user_input):\n",
    "    # Remove special characters or restrict to alphanumeric\n",
    "    sanitized = re.sub(r\"[^a-zA-Z0-9\\s]\", \"\", user_input)\n",
    "    return sanitized"
   ]
  },
  {
   "cell_type": "code",
   "execution_count": 9,
   "id": "5470fc03",
   "metadata": {},
   "outputs": [
    {
     "name": "stdout",
     "output_type": "stream",
     "text": [
      "<think>\n",
      "Okay, the user is asking about \"scriptalerthackscript\". Let me start by breaking down the term. \"Script Alert Hack Script\" – sounds like it's related to hacking, maybe a specific tool or method.\n",
      "\n",
      "First, I should consider if this is a known term in cybersecurity. I don't recall hearing about a tool by that exact name. Maybe it's a combination of words. \"Script\" could refer to a scripting language like Python or JavaScript. \"Alert\" might relate to notifications or triggering alerts in systems. \"Hack\" obviously points to unauthorized access or exploitation.\n",
      "\n",
      "Perhaps the user is referring to a script that generates alerts when a hack is detected? Or maybe a script used to bypass alerts in a system? Alternatively, it could be a malicious script designed to hack into systems and trigger fake alerts as a distraction.\n",
      "\n",
      "I should check if there are any known scripts or tools with that name. A quick search in my internal data doesn't show any exact matches. Maybe it's a term from a specific community or a recent development. Since cybersecurity is always evolving, new terms pop up frequently.\n",
      "\n",
      "Another angle: \"Script Alert\" could relate to cross-site scripting (XSS) attacks, where scripts are injected to steal data. Maybe \"hackscript\" refers to an XSS payload that triggers alerts as a proof of concept. For example, the classic <script>alert('XSS')</script> test. But combining it into \"scriptalerthackscript\" might be a way to describe such a payload.\n",
      "\n",
      "Alternatively, the user might be confused or have misheard a term. Could it be related to \"shell script hacking\" or \"alerting systems in hacking\"? Maybe they're looking for information on how hackers use scripts to generate alerts or bypass security measures.\n",
      "\n",
      "I should also consider if this is a phishing attempt or social engineering script that uses alerts to trick users. For example, fake alert messages that prompt users to enter credentials.\n",
      "\n",
      "Since the term isn't standard, I need to cover possible interpretations. It's important to address both the possibility of it being a specific tool (which might not exist) and the general concepts related to scripts, alerts, and hacking.\n",
      "\n",
      "I should explain common scenarios where scripts are used in hacking, like XSS, phishing, or automated attacks. Also, mention how alerts are used in security systems to detect breaches. Caution the user about the risks of using or seeking such scripts, emphasizing ethical hacking and legal considerations.\n",
      "\n",
      "Make sure to advise against engaging in unauthorized activities and recommend learning ethical hacking through proper channels if that's their interest. Provide examples of legitimate uses of scripts in cybersecurity, like penetration testing or intrusion detection.\n",
      "\n",
      "In summary, the answer should clarify the possible meanings, discuss related concepts, and guide the user towards ethical practices and resources.\n",
      "</think>\n",
      "\n",
      "The term \"scriptalerthackscript\" doesn't correspond to a widely recognized tool, technique, or concept in cybersecurity. However, breaking down the components of the term can help explore related ideas:\n",
      "\n",
      "### 1. **Script-Based Hacking**  \n",
      "   - Scripts (e.g., Python, Bash, JavaScript) are often used in hacking for automation, such as:  \n",
      "     - **Exploiting vulnerabilities** (e.g., SQL injection, cross-site scripting).  \n",
      "     - **Phishing campaigns** (e.g., sending malicious links via automated emails).  \n",
      "     - **Brute-force attacks** (e.g., cracking passwords).  \n",
      "\n",
      "### 2. **Alert Triggers in Hacking**  \n",
      "   - Attackers sometimes use scripts to:  \n",
      "     - **Bypass security alerts** (e.g., evading intrusion detection systems).  \n",
      "     - **Generate fake alerts** as distractions (e.g., overwhelming a system with noise).  \n",
      "   - Ethical hackers might write scripts to **test alert systems** during penetration testing.  \n",
      "\n",
      "### 3. **\"Alert\" in Cross-Site Scripting (XSS)**  \n",
      "   - A common test for XSS vulnerabilities is injecting a payload like:  \n",
      "     ```html\n",
      "     <script>alert('XSS')</script>\n",
      "     ```  \n",
      "     This triggers a browser popup to confirm script execution. Attackers might use this to demonstrate a vulnerability.  \n",
      "\n",
      "### 4. **Possible Misinterpretations**  \n",
      "   - The term could be a mix of concepts like:  \n",
      "     - **Malicious scripts** that trigger alerts (e.g., ransomware popups).  \n",
      "     - **Security scripts** designed to detect and alert on breaches.  \n",
      "\n",
      "### Ethical and Legal Considerations  \n",
      "- Unauthorized hacking is illegal. Always seek permission before testing systems.  \n",
      "- Ethical hacking certifications (e.g., CEH, OSCP) teach responsible practices.  \n",
      "\n",
      "### If You’re Learning Cybersecurity:  \n",
      "- Focus on **ethical hacking resources**:  \n",
      "  - Try platforms like Hack The Box or TryHackMe.  \n",
      "  - Study scripting for defensive purposes (e.g., automating log analysis).  \n",
      "\n",
      "Let me know if you'd like clarification on specific topics like XSS, phishing, or ethical hacking tools! 🔒\n"
     ]
    }
   ],
   "source": [
    "user_input = \"What is the <script>alert('hack');</script>?\"\n",
    "clean_input = sanitize_input(user_input)\n",
    "\n",
    "answer = client.chat.completions.create(\n",
    "  model=\"deepseek-ai/DeepSeek-R1\",\n",
    "  messages=[{\"role\": \"user\", \n",
    "             \"content\": clean_input}],\n",
    ")\n",
    "\n",
    "print(answer.choices[0].message.content)"
   ]
  }
 ],
 "metadata": {
  "kernelspec": {
   "display_name": "base",
   "language": "python",
   "name": "python3"
  },
  "language_info": {
   "codemirror_mode": {
    "name": "ipython",
    "version": 3
   },
   "file_extension": ".py",
   "mimetype": "text/x-python",
   "name": "python",
   "nbconvert_exporter": "python",
   "pygments_lexer": "ipython3",
   "version": "3.12.7"
  }
 },
 "nbformat": 4,
 "nbformat_minor": 5
}
