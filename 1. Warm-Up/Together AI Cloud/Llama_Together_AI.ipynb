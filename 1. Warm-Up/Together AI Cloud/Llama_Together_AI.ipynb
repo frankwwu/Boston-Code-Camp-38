{
  "cells": [
    {
      "cell_type": "markdown",
      "id": "21fa2e13-567d-4509-9023-c99fb230f31f",
      "metadata": {
        "id": "21fa2e13-567d-4509-9023-c99fb230f31f"
      },
      "source": [
        "# Llama with Together AI\n",
        "\n",
        "**Models**: Llama-3.3-70B-Instruct-Turbo-Free, Llama-Vision-Free"
      ]
    },
    {
      "cell_type": "code",
      "execution_count": 1,
      "id": "5af35b28",
      "metadata": {},
      "outputs": [],
      "source": [
        "import importlib.util\n",
        "\n",
        "def check_install(package_name):\n",
        "    if importlib.util.find_spec(package_name) is None:\n",
        "        !pip install {package_name}\n",
        "    else:\n",
        "        print(f\"'{package_name}' is already installed.\")"
      ]
    },
    {
      "cell_type": "code",
      "execution_count": 2,
      "id": "47b0ec3d-926b-45d4-991f-3fcb95589516",
      "metadata": {
        "colab": {
          "base_uri": "https://localhost:8080/",
          "height": 876
        },
        "id": "47b0ec3d-926b-45d4-991f-3fcb95589516",
        "outputId": "3c1e4c72-d5fb-441b-ab4d-e25e77152070"
      },
      "outputs": [
        {
          "name": "stdout",
          "output_type": "stream",
          "text": [
            "'together' is already installed.\n"
          ]
        }
      ],
      "source": [
        "check_install('together') "
      ]
    },
    {
      "cell_type": "code",
      "execution_count": 3,
      "id": "MxfYpCL6W_7f",
      "metadata": {
        "colab": {
          "base_uri": "https://localhost:8080/"
        },
        "id": "MxfYpCL6W_7f",
        "outputId": "08f7698a-08d0-4992-f8b8-63a1f3c5a721"
      },
      "outputs": [],
      "source": [
        "from together import Together\n",
        "import os\n",
        "from dotenv import load_dotenv, find_dotenv"
      ]
    },
    {
      "cell_type": "code",
      "execution_count": 4,
      "id": "cc1715b2",
      "metadata": {},
      "outputs": [],
      "source": [
        "def get_key(key_name):\n",
        "    _ = load_dotenv(find_dotenv())\n",
        "    key = os.getenv(key_name)\n",
        "    return key\n",
        "\n",
        "api_key = get_key('TOGETHER_API_KEY')"
      ]
    },
    {
      "cell_type": "code",
      "execution_count": 5,
      "id": "9e272cec",
      "metadata": {},
      "outputs": [],
      "source": [
        "client = Together()"
      ]
    },
    {
      "cell_type": "code",
      "execution_count": 6,
      "id": "3221a95b-121e-47b9-809f-b22a34759582",
      "metadata": {
        "id": "3221a95b-121e-47b9-809f-b22a34759582"
      },
      "outputs": [
        {
          "name": "stdout",
          "output_type": "stream",
          "text": [
            "Greenland is the world's largest island, with a total area of approximately 2,166,086 square kilometers (836,330 square miles). To put that into perspective, it's roughly three times the size of Texas, or about the same size as Mexico.\n",
            "\n",
            "Greenland's dimensions are:\n",
            "\n",
            "* Length: approximately 2,670 kilometers (1,660 miles) from north to south\n",
            "* Width: approximately 1,030 kilometers (640 miles) from east to west\n",
            "* Coastline: approximately 44,000 kilometers (27,340 miles) long\n",
            "\n",
            "Despite its massive size, Greenland has a relatively small population of around 56,000 people, with the majority living in the coastal areas. The island is mostly covered in ice, with the Greenland Ice Sheet being the second-largest ice body in the world, covering about 80% of the island.\n"
          ]
        }
      ],
      "source": [
        "response = client.chat.completions.create(\n",
        "    model=\"meta-llama/Llama-3.3-70B-Instruct-Turbo-Free\",\n",
        "    messages=[{\"role\": \"user\", \"content\": \"How big is Greenland?\"}],\n",
        ")\n",
        "print(response.choices[0].message.content)"
      ]
    },
    {
      "cell_type": "code",
      "execution_count": 7,
      "id": "7cc2d121",
      "metadata": {},
      "outputs": [
        {
          "name": "stdout",
          "output_type": "stream",
          "text": [
            "Greenland is the world's largest island, with an area of approximately 2,166,086 square kilometers (836,330 square miles). To put that in perspective, it's roughly three times the size of Texas or about 1.7 times the size of Mexico.\n",
            "\n",
            "Greenland is an autonomous territory within the Kingdom of Denmark, and it's located between the Arctic and Atlantic Oceans. Its vast and rugged landscape encompasses ice caps, fjords, and mountains, with about 80% of its surface covered by the Greenland Ice Sheet, which is the second-largest ice body in the world after Antarctica.\n",
            "\n",
            "Greenland's population is relatively small, with around 56,081 people living on the island, mostly in the capital city of Nuuk (also known as Godthåb).\n",
            "\n",
            "Greenland's sheer size and unique geography make it a fascinating and remote destination, with opportunities for adventure, research, and exploration.\n"
          ]
        }
      ],
      "source": [
        "response = client.chat.completions.create(\n",
        "    model=\"meta-llama/Llama-Vision-Free\",\n",
        "    messages=[{\"role\": \"user\", \"content\": \"How big is Greenland?\"}],\n",
        ")\n",
        "print(response.choices[0].message.content)"
      ]
    }
  ],
  "metadata": {
    "accelerator": "GPU",
    "colab": {
      "gpuType": "T4",
      "provenance": []
    },
    "kernelspec": {
      "display_name": "base",
      "language": "python",
      "name": "python3"
    },
    "language_info": {
      "codemirror_mode": {
        "name": "ipython",
        "version": 3
      },
      "file_extension": ".py",
      "mimetype": "text/x-python",
      "name": "python",
      "nbconvert_exporter": "python",
      "pygments_lexer": "ipython3",
      "version": "3.12.7"
    }
  },
  "nbformat": 4,
  "nbformat_minor": 5
}
