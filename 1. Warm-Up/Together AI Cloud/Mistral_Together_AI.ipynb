{
  "cells": [
    {
      "cell_type": "markdown",
      "id": "21fa2e13-567d-4509-9023-c99fb230f31f",
      "metadata": {
        "id": "21fa2e13-567d-4509-9023-c99fb230f31f"
      },
      "source": [
        "# Mistral with Together AI (Cloud-Based, No Installation Required)"
      ]
    },
    {
      "cell_type": "code",
      "execution_count": 1,
      "id": "5af35b28",
      "metadata": {},
      "outputs": [],
      "source": [
        "import importlib.util\n",
        "\n",
        "def check_install(package_name):\n",
        "    if importlib.util.find_spec(package_name) is None:\n",
        "        !pip install {package_name}\n",
        "    else:\n",
        "        print(f\"'{package_name}' is already installed.\")"
      ]
    },
    {
      "cell_type": "code",
      "execution_count": 2,
      "id": "47b0ec3d-926b-45d4-991f-3fcb95589516",
      "metadata": {
        "colab": {
          "base_uri": "https://localhost:8080/",
          "height": 876
        },
        "id": "47b0ec3d-926b-45d4-991f-3fcb95589516",
        "outputId": "3c1e4c72-d5fb-441b-ab4d-e25e77152070"
      },
      "outputs": [
        {
          "name": "stdout",
          "output_type": "stream",
          "text": [
            "'together' is already installed.\n"
          ]
        }
      ],
      "source": [
        "check_install('together') "
      ]
    },
    {
      "cell_type": "code",
      "execution_count": 3,
      "id": "MxfYpCL6W_7f",
      "metadata": {
        "colab": {
          "base_uri": "https://localhost:8080/"
        },
        "id": "MxfYpCL6W_7f",
        "outputId": "08f7698a-08d0-4992-f8b8-63a1f3c5a721"
      },
      "outputs": [],
      "source": [
        "from together import Together\n",
        "import os\n",
        "from dotenv import load_dotenv, find_dotenv"
      ]
    },
    {
      "cell_type": "code",
      "execution_count": 4,
      "id": "cc1715b2",
      "metadata": {},
      "outputs": [],
      "source": [
        "def get_key(key_name):\n",
        "    _ = load_dotenv(find_dotenv())\n",
        "    openai_api_key = os.getenv(key_name)\n",
        "    return openai_api_key\n",
        "\n",
        "api_key = get_key('TOGETHER_API_KEY')"
      ]
    },
    {
      "cell_type": "code",
      "execution_count": 5,
      "id": "23f83727",
      "metadata": {},
      "outputs": [],
      "source": [
        "client = Together(api_key = api_key)"
      ]
    },
    {
      "cell_type": "code",
      "execution_count": 6,
      "id": "d4025e35",
      "metadata": {},
      "outputs": [
        {
          "name": "stdout",
          "output_type": "stream",
          "text": [
            "Hello from your future! I'm glad I have the chance to offer you some advice. Here are a few things I've gathered along the way that I think you'll find helpful:\n",
            "\n",
            "1. **Embrace Change**: Life is unpredictable, and change is inevitable. Embrace it rather than fearing it. Every change brings new opportunities and experiences.\n",
            "\n",
            "2. **Practice Self-Care**: This includes physical health, mental well-being, and emotional balance. It's not selfish; it's necessary. Don't forget to take time for yourself.\n",
            "\n",
            "3. **Building Relationships**: Invest time and effort in your relationships. Be patient, be kind, and be present. The love and support of others will be your greatest strength in life.\n",
            "\n",
            "4. **Learn Continuously**: Never stop learning. This doesn't mean you'll always need formal education, but stay curious and continuously broaden your horizons.\n",
            "\n",
            "5. **Embrace Challenges**: Every challenge is an opportunity for growth. Don’t shy away from difficult tasks or situations. They are the very experiences that make you stronger.\n",
            "\n",
            "6. **Financial Management**: Start saving and investing early. Good financial habits will serve you well. Also, be cautious with debt; it can hold you back from greater freedom and independence.\n",
            "\n",
            "7. **Pursue Your Passion**: Life is too short to do something you don’t enjoy. Find what you love and work towards making it a part of your life in some way, even if it’s just as a hobby.\n",
            "\n",
            "8. **Stay True to Yourself**: Never compromise your values for the sake of it. Be comfortable in your own skin and don’t let the expectations of others dictate who you should be.\n",
            "\n",
            "9. **Take Risks**: Some of the best opportunities come from taking calculated risks. Don't be afraid to step out of your comfort zone; that's where the magic happens.\n",
            "\n",
            "10. **Be Present**: Live in the moment. Enjoy today and the experiences it brings without always worrying about the future or dwelling on the past.\n",
            "\n",
            "11. **Gratitude**: Practice gratitude daily. It’s easy to focus on what’s wrong, but find reasons to be thankful every day. Your perspective will shift in meaningful ways.\n",
            "\n",
            "12. **Seek Balance**: Work hard, but make time for play and relaxation. Balance is the key to a fulfilling life.\n",
            "\n",
            "Remember, you are stronger and more capable than you might feel right now. The future is full of possibilities, and every decision and experience you have will shape who you become. Trust the journey and enjoy the ride!\n"
          ]
        }
      ],
      "source": [
        "question = \"Pretend you are my future self. What advice do you have for me?\"\n",
        "\n",
        "answer = client.chat.completions.create(\n",
        "  model=\"mistralai/Mistral-Small-24B-Instruct-2501\",\n",
        "  messages=[{\"role\": \"user\", \n",
        "             \"content\": question}],\n",
        ")\n",
        "\n",
        "print(answer.choices[0].message.content)"
      ]
    }
  ],
  "metadata": {
    "accelerator": "GPU",
    "colab": {
      "gpuType": "T4",
      "provenance": []
    },
    "kernelspec": {
      "display_name": "base",
      "language": "python",
      "name": "python3"
    },
    "language_info": {
      "codemirror_mode": {
        "name": "ipython",
        "version": 3
      },
      "file_extension": ".py",
      "mimetype": "text/x-python",
      "name": "python",
      "nbconvert_exporter": "python",
      "pygments_lexer": "ipython3",
      "version": "3.12.7"
    }
  },
  "nbformat": 4,
  "nbformat_minor": 5
}
