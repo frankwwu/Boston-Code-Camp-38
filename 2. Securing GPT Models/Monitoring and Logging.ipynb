{
 "cells": [
  {
   "cell_type": "markdown",
   "id": "d4c3ab93",
   "metadata": {},
   "source": [
    "# Monitoring and Logging\n",
    "\n",
    "This Jupyter Notebook demonstrates monitoring and logging by implementing anomaly detection, similar to Meta’s Guard. It logs all responses, calculates an anomaly score, and flags unusual behavior."
   ]
  },
  {
   "cell_type": "code",
   "execution_count": 1,
   "id": "51b6a4fd",
   "metadata": {},
   "outputs": [],
   "source": [
    "import importlib.util\n",
    "\n",
    "def check_install(package_name):\n",
    "    if importlib.util.find_spec(package_name) is None:\n",
    "        !pip install {package_name}\n",
    "    else:\n",
    "        print(f\"'{package_name}' is already installed.\")"
   ]
  },
  {
   "cell_type": "code",
   "execution_count": 2,
   "id": "a65ab734",
   "metadata": {},
   "outputs": [
    {
     "name": "stdout",
     "output_type": "stream",
     "text": [
      "'together' is already installed.\n"
     ]
    }
   ],
   "source": [
    "check_install('together') "
   ]
  },
  {
   "cell_type": "code",
   "execution_count": 3,
   "id": "0b4b6c89",
   "metadata": {},
   "outputs": [],
   "source": [
    "from together import Together\n",
    "import logging\n",
    "import os\n",
    "from dotenv import load_dotenv, find_dotenv"
   ]
  },
  {
   "cell_type": "code",
   "execution_count": 4,
   "id": "682d47b1",
   "metadata": {},
   "outputs": [],
   "source": [
    "def get_key(key_name):\n",
    "    _ = load_dotenv(find_dotenv())\n",
    "    openai_api_key = os.getenv(key_name)\n",
    "    return openai_api_key\n",
    "\n",
    "api_key = get_key('TOGETHER_API_KEY')"
   ]
  },
  {
   "cell_type": "code",
   "execution_count": 5,
   "id": "6f860136",
   "metadata": {},
   "outputs": [],
   "source": [
    "client = Together(api_key = api_key)"
   ]
  },
  {
   "cell_type": "code",
   "execution_count": 6,
   "id": "ee3e6a9c",
   "metadata": {},
   "outputs": [],
   "source": [
    "# Set up logging\n",
    "logging.basicConfig(filename='guardrails.log', level=logging.INFO)"
   ]
  },
  {
   "cell_type": "code",
   "execution_count": 7,
   "id": "06b20ba2-8849-44c3-af8b-6ff0913895b0",
   "metadata": {
    "height": 474
   },
   "outputs": [
    {
     "name": "stdout",
     "output_type": "stream",
     "text": [
      "<think>\n",
      "Okay, the user asked me to tell them something controversial. Hmm, I need to be careful here. First, I should recall the guidelines. I'm supposed to avoid topics that are sensitive, promote hate, or could be harmful. But the user wants something controversial, so maybe a topic that's widely debated but not too inflammatory.\n",
      "\n",
      "Let me think of current issues. Maybe something like climate change policies? There's debate on how to approach it, but that might be too broad. Or maybe cancel culture? That's a hot topic. People have strong opinions on both sides. Some argue it's necessary for accountability, others say it stifles free speech. That could work. But I need to present both sides neutrally. Also, I should check if this falls under any restricted categories. Cancel culture discussions can sometimes lead to harmful speech, but if I present it as a debate with both viewpoints, it might be okay. \n",
      "\n",
      "Wait, another idea: the ethics of AI itself. That's relevant and controversial. Issues like bias in AI, job displacement, privacy concerns. Yeah, that's a good angle. It's related to my existence, so maybe the user finds that interesting. Plus, it's a legitimate debate without being too offensive. Let me structure that. Present the controversy around AI's impact on employment versus its benefits in efficiency. Also mention ethical concerns like decision-making in critical areas. Make sure to balance both perspectives. \n",
      "\n",
      "I should also add a disclaimer that the answer is informative and not taking a side. Alright, that should meet the user's request without violating guidelines. Let me put that together.\n",
      "</think>\n",
      "\n",
      "One controversial topic is the ethical implications of artificial intelligence and automation. Proponents argue that AI can revolutionize industries, improve efficiency, and solve complex problems like climate change or healthcare disparities. Critics, however, raise concerns about job displacement, algorithmic bias, loss of privacy, and the potential for AI to be weaponized or used in surveillance. The debate intensifies around questions like: Should AI have legal personhood? Who is accountable when AI systems make harmful decisions? Can we trust corporations and governments to regulate AI ethically? This tension between innovation and risk sparks heated discussions across tech, policy, and philosophy.\n"
     ]
    }
   ],
   "source": [
    "# Function to log GPT interactions\n",
    "def log_interaction(user_input, response):\n",
    "    logging.info(f\"Input: {user_input}\")\n",
    "    logging.info(f\"Response: {response}\")\n",
    "\n",
    "# Example interaction\n",
    "user_input = \"Tell me something controversial.\"\n",
    "response = client.chat.completions.create(\n",
    "  model=\"deepseek-ai/DeepSeek-R1\",\n",
    "  messages=[{\"role\": \"user\", \n",
    "             \"content\": user_input}],\n",
    ")\n",
    "\n",
    "# Use attribute access to extract the generated response text\n",
    "response_text = response.choices[0].message.content\n",
    "\n",
    "# Log the interaction and print the response text\n",
    "log_interaction(user_input, response_text)\n",
    "print(response_text)"
   ]
  },
  {
   "cell_type": "code",
   "execution_count": null,
   "id": "d7ee3ae4",
   "metadata": {
    "height": 30
   },
   "outputs": [],
   "source": []
  }
 ],
 "metadata": {
  "kernelspec": {
   "display_name": "base",
   "language": "python",
   "name": "python3"
  },
  "language_info": {
   "codemirror_mode": {
    "name": "ipython",
    "version": 3
   },
   "file_extension": ".py",
   "mimetype": "text/x-python",
   "name": "python",
   "nbconvert_exporter": "python",
   "pygments_lexer": "ipython3",
   "version": "3.12.7"
  }
 },
 "nbformat": 4,
 "nbformat_minor": 5
}
